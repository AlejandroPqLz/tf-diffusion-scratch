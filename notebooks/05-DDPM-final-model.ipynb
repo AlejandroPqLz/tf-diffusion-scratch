{
 "cells": [
  {
   "cell_type": "markdown",
   "metadata": {},
   "source": [
    "# **Pokémon Diffusion<a id=\"top\"></a>**\n",
    "\n",
    "> #### ``05-DDPM-Final_Model.ipynb``\n",
    "\n",
    "<i><small>**Alumno:** Alejandro Pequeño Lizcano<br>Última actualización: 14/07/2024</small></i></div>"
   ]
  },
  {
   "cell_type": "markdown",
   "metadata": {},
   "source": [
    "---\n",
    "\n",
    "**Objetivo:** \n",
    "Este notebook tiene como objetivo mostrar los resultados obtenidos tras el entrenamiento del modelo DDPM para la generación de imágenes de Pokémon condicionadas al tipo de Pokémon.\n",
    "\n",
    "- [0. Imports](#-0.-Imports)\n",
    "\n",
    "- [1. Carga del modelo entrenado](#1-caga-del-modelo-entrenado)\n",
    "- [2. Resultados del modelo](#2-resultados-del-modelo)\n",
    "\n",
    "---"
   ]
  },
  {
   "cell_type": "markdown",
   "metadata": {},
   "source": [
    "# 0. Imports\n",
    "\n",
    "Una vez introducido el objetivo de este notebook, se importan las librerías necesarias para el desarrollo del apartado."
   ]
  },
  {
   "cell_type": "code",
   "execution_count": 1,
   "metadata": {},
   "outputs": [
    {
     "name": "stderr",
     "output_type": "stream",
     "text": [
      "2024-07-13 16:37:52.691546: I tensorflow/core/util/port.cc:113] oneDNN custom operations are on. You may see slightly different numerical results due to floating-point round-off errors from different computation orders. To turn them off, set the environment variable `TF_ENABLE_ONEDNN_OPTS=0`.\n",
      "2024-07-13 16:37:52.721258: I tensorflow/core/platform/cpu_feature_guard.cc:210] This TensorFlow binary is optimized to use available CPU instructions in performance-critical operations.\n",
      "To enable the following instructions: AVX2 AVX_VNNI FMA, in other operations, rebuild TensorFlow with the appropriate compiler flags.\n"
     ]
    }
   ],
   "source": [
    "# Import necessary libraries\n",
    "# =====================================================================\n",
    "import tensorflow as tf\n",
    "import configparser\n",
    "from src.model.build_model import build_unet\n",
    "from src.utils import *\n",
    "from src.utils.config import parse_config\n",
    "from src.model.diffusion_funcionality import *"
   ]
  },
  {
   "cell_type": "code",
   "execution_count": 2,
   "metadata": {},
   "outputs": [
    {
     "name": "stdout",
     "output_type": "stream",
     "text": [
      "GPUs Available:  [PhysicalDevice(name='/physical_device:GPU:0', device_type='GPU')]\n"
     ]
    },
    {
     "name": "stderr",
     "output_type": "stream",
     "text": [
      "2024-07-13 16:37:53.946322: I external/local_xla/xla/stream_executor/cuda/cuda_executor.cc:998] successful NUMA node read from SysFS had negative value (-1), but there must be at least one NUMA node, so returning NUMA node zero. See more at https://github.com/torvalds/linux/blob/v6.0/Documentation/ABI/testing/sysfs-bus-pci#L344-L355\n",
      "2024-07-13 16:37:53.950555: I external/local_xla/xla/stream_executor/cuda/cuda_executor.cc:998] successful NUMA node read from SysFS had negative value (-1), but there must be at least one NUMA node, so returning NUMA node zero. See more at https://github.com/torvalds/linux/blob/v6.0/Documentation/ABI/testing/sysfs-bus-pci#L344-L355\n",
      "2024-07-13 16:37:53.950674: I external/local_xla/xla/stream_executor/cuda/cuda_executor.cc:998] successful NUMA node read from SysFS had negative value (-1), but there must be at least one NUMA node, so returning NUMA node zero. See more at https://github.com/torvalds/linux/blob/v6.0/Documentation/ABI/testing/sysfs-bus-pci#L344-L355\n"
     ]
    }
   ],
   "source": [
    "# Use the GPU\n",
    "# =====================================================================\n",
    "gpus_list = tf.config.list_physical_devices(\"GPU\")\n",
    "gpu = gpus_list[0]\n",
    "tf.config.experimental.set_memory_growth(gpu, True)\n",
    "\n",
    "print(\"GPUs Available: \", gpus_list)"
   ]
  },
  {
   "cell_type": "code",
   "execution_count": 3,
   "metadata": {},
   "outputs": [],
   "source": [
    "# Set config file\n",
    "# =====================================================================\n",
    "config = configparser.ConfigParser()\n",
    "config.read(CONFIG_PATH)\n",
    "\n",
    "hyperparameters = parse_config(config, \"hyperparameters\")\n",
    "\n",
    "IMG_SIZE = hyperparameters[\"img_size\"]\n",
    "NUM_CLASSES = hyperparameters[\"num_classes\"]\n",
    "BATCH_SIZE = hyperparameters[\"batch_size\"]\n",
    "EPOCHS = hyperparameters[\"epochs\"]\n",
    "\n",
    "TIMESTEPS = hyperparameters[\"timesteps\"]\n",
    "SCHEDULER = hyperparameters[\"scheduler\"]\n",
    "BETA_START = hyperparameters[\"beta_start\"]\n",
    "BETA_END = hyperparameters[\"beta_end\"]\n",
    "S = hyperparameters[\"s\"]"
   ]
  },
  {
   "cell_type": "markdown",
   "metadata": {},
   "source": [
    "## 1. Caga del modelo entrenado\n",
    "\n",
    "Cargamos el modelo entrenado en el notebook anterior. Para ello, se selecciona el path del modelo y se carga, gracias a la función implementada en `diffusion_functionality.py`."
   ]
  },
  {
   "cell_type": "code",
   "execution_count": 4,
   "metadata": {},
   "outputs": [
    {
     "name": "stderr",
     "output_type": "stream",
     "text": [
      "2024-07-13 16:37:53.965483: I external/local_xla/xla/stream_executor/cuda/cuda_executor.cc:998] successful NUMA node read from SysFS had negative value (-1), but there must be at least one NUMA node, so returning NUMA node zero. See more at https://github.com/torvalds/linux/blob/v6.0/Documentation/ABI/testing/sysfs-bus-pci#L344-L355\n",
      "2024-07-13 16:37:53.965615: I external/local_xla/xla/stream_executor/cuda/cuda_executor.cc:998] successful NUMA node read from SysFS had negative value (-1), but there must be at least one NUMA node, so returning NUMA node zero. See more at https://github.com/torvalds/linux/blob/v6.0/Documentation/ABI/testing/sysfs-bus-pci#L344-L355\n",
      "2024-07-13 16:37:53.965681: I external/local_xla/xla/stream_executor/cuda/cuda_executor.cc:998] successful NUMA node read from SysFS had negative value (-1), but there must be at least one NUMA node, so returning NUMA node zero. See more at https://github.com/torvalds/linux/blob/v6.0/Documentation/ABI/testing/sysfs-bus-pci#L344-L355\n",
      "2024-07-13 16:37:54.023186: I external/local_xla/xla/stream_executor/cuda/cuda_executor.cc:998] successful NUMA node read from SysFS had negative value (-1), but there must be at least one NUMA node, so returning NUMA node zero. See more at https://github.com/torvalds/linux/blob/v6.0/Documentation/ABI/testing/sysfs-bus-pci#L344-L355\n",
      "2024-07-13 16:37:54.023296: I external/local_xla/xla/stream_executor/cuda/cuda_executor.cc:998] successful NUMA node read from SysFS had negative value (-1), but there must be at least one NUMA node, so returning NUMA node zero. See more at https://github.com/torvalds/linux/blob/v6.0/Documentation/ABI/testing/sysfs-bus-pci#L344-L355\n",
      "2024-07-13 16:37:54.023366: I external/local_xla/xla/stream_executor/cuda/cuda_executor.cc:998] successful NUMA node read from SysFS had negative value (-1), but there must be at least one NUMA node, so returning NUMA node zero. See more at https://github.com/torvalds/linux/blob/v6.0/Documentation/ABI/testing/sysfs-bus-pci#L344-L355\n",
      "2024-07-13 16:37:54.023428: I tensorflow/core/common_runtime/gpu/gpu_device.cc:1928] Created device /job:localhost/replica:0/task:0/device:GPU:0 with 4209 MB memory:  -> device: 0, name: NVIDIA GeForce RTX 3060 Laptop GPU, pci bus id: 0000:01:00.0, compute capability: 8.6\n",
      "/home/pqlza/.local/lib/python3.11/site-packages/keras/src/saving/saving_lib.py:396: UserWarning: Skipping variable loading for optimizer 'adam', because it has 2 variables whereas the saved optimizer has 810 variables. \n",
      "  trackable.load_own_variables(weights_store.get(inner_path))\n"
     ]
    }
   ],
   "source": [
    "# Load the model\n",
    "# =====================================================================\n",
    "load_path = f\"{MODELS_PATH}/final_diffusion_model.weights.h5\"\n",
    "u_net = build_unet(IMG_SIZE, NUM_CLASSES, dropout_rate=0.1)\n",
    "ema_u_net = build_unet(IMG_SIZE, NUM_CLASSES, dropout_rate=0.1) # EMA model for smoother training\n",
    "ema_u_net.set_weights(u_net.get_weights()) # Initialize EMA model with the same weights\n",
    "\n",
    "\n",
    "model_loaded = DiffusionModel.load_model(\n",
    "    load_path,\n",
    "    u_net,\n",
    "    ema_u_net,\n",
    "    IMG_SIZE,\n",
    "    NUM_CLASSES,\n",
    "    TIMESTEPS,\n",
    "    BETA_START,\n",
    "    BETA_END,\n",
    "    S,\n",
    "    SCHEDULER,\n",
    "    ema=0.999\n",
    ")"
   ]
  },
  {
   "cell_type": "markdown",
   "metadata": {},
   "source": [
    "## 2. Resultados del modelo\n",
    "\n",
    "Tras cargar el modelo, se generan imágenes de Pokémon condicionadas a su tipo. Para ello, se seleccionan los tipos de Pokémon (opcional) y se generan las imágenes correspondientes."
   ]
  },
  {
   "cell_type": "code",
   "execution_count": 5,
   "metadata": {},
   "outputs": [
    {
     "name": "stdout",
     "output_type": "stream",
     "text": [
      "Generating sample 1/6\n"
     ]
    },
    {
     "name": "stderr",
     "output_type": "stream",
     "text": [
      "Sampling sprite...:   0%|          | 0/999 [00:00<?, ?it/s]2024-07-13 16:37:56.943356: I external/local_xla/xla/stream_executor/cuda/cuda_dnn.cc:465] Loaded cuDNN version 8906\n",
      "Sampling sprite...: 100%|██████████| 999/999 [01:31<00:00, 10.92it/s]\n"
     ]
    },
    {
     "name": "stdout",
     "output_type": "stream",
     "text": [
      "Generating sample 2/6\n"
     ]
    },
    {
     "name": "stderr",
     "output_type": "stream",
     "text": [
      "Sampling sprite...: 100%|██████████| 999/999 [01:28<00:00, 11.31it/s]\n"
     ]
    },
    {
     "name": "stdout",
     "output_type": "stream",
     "text": [
      "Generating sample 3/6\n"
     ]
    },
    {
     "name": "stderr",
     "output_type": "stream",
     "text": [
      "Sampling sprite...:  65%|██████▍   | 647/999 [00:59<00:33, 10.56it/s]"
     ]
    }
   ],
   "source": [
    "# Sample some sprites\n",
    "# =====================================================================\n",
    "model_loaded.plot_samples(6)\n",
    "model_loaded.plot_samples(6)\n",
    "model_loaded.plot_samples(6)\n",
    "model_loaded.plot_samples(6)\n",
    "model_loaded.plot_samples(6)\n",
    "model_loaded.plot_samples(6)"
   ]
  },
  {
   "cell_type": "code",
   "execution_count": null,
   "metadata": {},
   "outputs": [],
   "source": [
    "model_loaded.plot_samples(6, \"Bug\")\n",
    "model_loaded.plot_samples(6, \"Dark\")\n",
    "model_loaded.plot_samples(6, \"Dragon\")\n",
    "model_loaded.plot_samples(6, \"Electric\")\n",
    "model_loaded.plot_samples(6, \"Fairy\")\n",
    "model_loaded.plot_samples(6, \"Fighting\")"
   ]
  },
  {
   "cell_type": "code",
   "execution_count": null,
   "metadata": {},
   "outputs": [],
   "source": [
    "model_loaded.plot_samples(6, \"Fire\")\n",
    "model_loaded.plot_samples(6, \"Flying\")\n",
    "model_loaded.plot_samples(6, \"Ghost\")\n",
    "model_loaded.plot_samples(6, \"Grass\")\n",
    "model_loaded.plot_samples(6, \"Ground\")\n",
    "model_loaded.plot_samples(6, \"Ice\")"
   ]
  },
  {
   "cell_type": "code",
   "execution_count": null,
   "metadata": {},
   "outputs": [],
   "source": [
    "model_loaded.plot_samples(6, \"Normal\")\n",
    "model_loaded.plot_samples(6, \"Poison\")\n",
    "model_loaded.plot_samples(6, \"Psychic\")\n",
    "model_loaded.plot_samples(6, \"Rock\")\n",
    "model_loaded.plot_samples(6, \"Steel\")\n",
    "model_loaded.plot_samples(6, \"Water\")"
   ]
  }
 ],
 "metadata": {
  "kernelspec": {
   "display_name": "Python 3 (ipykernel)",
   "language": "python",
   "name": "python3"
  },
  "language_info": {
   "codemirror_mode": {
    "name": "ipython",
    "version": 3
   },
   "file_extension": ".py",
   "mimetype": "text/x-python",
   "name": "python",
   "nbconvert_exporter": "python",
   "pygments_lexer": "ipython3",
   "version": "3.11.0rc1"
  }
 },
 "nbformat": 4,
 "nbformat_minor": 2
}
