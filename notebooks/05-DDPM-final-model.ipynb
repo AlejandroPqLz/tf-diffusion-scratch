{
 "cells": [
  {
   "cell_type": "markdown",
   "metadata": {},
   "source": [
    "# **Pokémon Diffusion<a id=\"top\"></a>**\n",
    "\n",
    "> #### ``05-DDPM-Final_Model.ipynb``\n",
    "\n",
    "<i><small>**Alumno:** Alejandro Pequeño Lizcano<br>Última actualización: 14/07/2024</small></i></div>"
   ]
  },
  {
   "cell_type": "markdown",
   "metadata": {},
   "source": [
    "---\n",
    "\n",
    "**Objetivo:** \n",
    "Este notebook tiene como objetivo mostrar los resultados obtenidos tras el entrenamiento del modelo DDPM para la generación de imágenes de Pokémon condicionadas al tipo de Pokémon.\n",
    "\n",
    "- [0. Imports](#-0.-Imports)\n",
    "\n",
    "- [1. Carga del modelo entrenado](#1-caga-del-modelo-entrenado)\n",
    "- [2. Resultados del modelo](#2-resultados-del-modelo)\n",
    "\n",
    "---"
   ]
  },
  {
   "cell_type": "markdown",
   "metadata": {},
   "source": [
    "# 0. Imports\n",
    "\n",
    "Una vez introducido el objetivo de este notebook, se importan las librerías necesarias para el desarrollo del apartado."
   ]
  },
  {
   "cell_type": "code",
   "execution_count": null,
   "metadata": {},
   "outputs": [],
   "source": [
    "# Import necessary libraries\n",
    "# =====================================================================\n",
    "import tensorflow as tf\n",
    "import configparser\n",
    "from src.model.build_model import build_unet\n",
    "from src.utils import *\n",
    "from src.utils.config import parse_config\n",
    "from src.model.diffusion_funcionality import *"
   ]
  },
  {
   "cell_type": "code",
   "execution_count": null,
   "metadata": {},
   "outputs": [],
   "source": [
    "# Use the GPU\n",
    "# =====================================================================\n",
    "gpus_list = tf.config.list_physical_devices(\"GPU\")\n",
    "gpu = gpus_list[0]\n",
    "tf.config.experimental.set_memory_growth(gpu, True)\n",
    "\n",
    "print(\"GPUs Available: \", gpus_list)"
   ]
  },
  {
   "cell_type": "code",
   "execution_count": null,
   "metadata": {},
   "outputs": [],
   "source": [
    "# Set config file\n",
    "# =====================================================================\n",
    "config = configparser.ConfigParser()\n",
    "config.read(CONFIG_PATH)\n",
    "\n",
    "hyperparameters = parse_config(config, \"hyperparameters\")\n",
    "\n",
    "IMG_SIZE = hyperparameters[\"img_size\"]\n",
    "NUM_CLASSES = hyperparameters[\"num_classes\"]\n",
    "BATCH_SIZE = hyperparameters[\"batch_size\"]\n",
    "EPOCHS = hyperparameters[\"epochs\"]\n",
    "\n",
    "TIMESTEPS = hyperparameters[\"timesteps\"]\n",
    "SCHEDULER = hyperparameters[\"scheduler\"]\n",
    "BETA_START = hyperparameters[\"beta_start\"]\n",
    "BETA_END = hyperparameters[\"beta_end\"]\n",
    "S = hyperparameters[\"s\"]"
   ]
  },
  {
   "cell_type": "markdown",
   "metadata": {},
   "source": [
    "## 1. Caga del modelo entrenado\n",
    "\n",
    "Cargamos el modelo entrenado en el notebook anterior. Para ello, se selecciona el path del modelo y se carga, gracias a la función implementada en `diffusion_functionality.py`."
   ]
  },
  {
   "cell_type": "code",
   "execution_count": null,
   "metadata": {},
   "outputs": [],
   "source": [
    "# Load the model\n",
    "# =====================================================================\n",
    "load_path = f\"{MODELS_PATH}/final_diffusion_{IMG_SIZE}x{IMG_SIZE}_batch{BATCH_SIZE}_epochs{EPOCHS}.weights.h5\"\n",
    "u_net = build_unet(IMG_SIZE, NUM_CLASSES, dropout_rate=0.1)\n",
    "ema_u_net = build_unet(IMG_SIZE, NUM_CLASSES, dropout_rate=0.1) # EMA model for smoother training\n",
    "ema_u_net.set_weights(u_net.get_weights()) # Initialize EMA model with the same weights\n",
    "\n",
    "\n",
    "model_loaded = DiffusionModel.load_model(\n",
    "    load_path,\n",
    "    u_net,\n",
    "    ema_u_net,\n",
    "    IMG_SIZE,\n",
    "    NUM_CLASSES,\n",
    "    TIMESTEPS,\n",
    "    BETA_START,\n",
    "    BETA_END,\n",
    "    S,\n",
    "    SCHEDULER,\n",
    "    ema=0.999\n",
    ")"
   ]
  },
  {
   "cell_type": "code",
   "execution_count": null,
   "metadata": {},
   "outputs": [],
   "source": [
    "model_loaded.plot_samples(1) # test, borrar luego"
   ]
  },
  {
   "cell_type": "markdown",
   "metadata": {},
   "source": [
    "## 2. Resultados del modelo\n",
    "\n",
    "Tras cargar el modelo, se generan imágenes de Pokémon condicionadas a su tipo. Para ello, se seleccionan los tipos de Pokémon (opcional) y se generan las imágenes correspondientes."
   ]
  },
  {
   "cell_type": "code",
   "execution_count": null,
   "metadata": {},
   "outputs": [],
   "source": [
    "# Sample some sprites\n",
    "# =====================================================================\n",
    "model_loaded.plot_samples(6)\n",
    "model_loaded.plot_samples(6)\n",
    "model_loaded.plot_samples(6)\n",
    "model_loaded.plot_samples(6)\n",
    "model_loaded.plot_samples(6)\n",
    "model_loaded.plot_samples(6)"
   ]
  },
  {
   "cell_type": "code",
   "execution_count": null,
   "metadata": {},
   "outputs": [],
   "source": [
    "model_loaded.plot_samples(6, \"Bug\")\n",
    "model_loaded.plot_samples(6, \"Dark\")\n",
    "model_loaded.plot_samples(6, \"Dragon\")\n",
    "model_loaded.plot_samples(6, \"Electric\")\n",
    "model_loaded.plot_samples(6, \"Fairy\")\n",
    "model_loaded.plot_samples(6, \"Fighting\")"
   ]
  },
  {
   "cell_type": "code",
   "execution_count": null,
   "metadata": {},
   "outputs": [],
   "source": [
    "model_loaded.plot_samples(6, \"Fire\")\n",
    "model_loaded.plot_samples(6, \"Flying\")\n",
    "model_loaded.plot_samples(6, \"Ghost\")\n",
    "model_loaded.plot_samples(6, \"Grass\")\n",
    "model_loaded.plot_samples(6, \"Ground\")\n",
    "model_loaded.plot_samples(6, \"Ice\")"
   ]
  },
  {
   "cell_type": "code",
   "execution_count": null,
   "metadata": {},
   "outputs": [],
   "source": [
    "model_loaded.plot_samples(6, \"Normal\")\n",
    "model_loaded.plot_samples(6, \"Poison\")\n",
    "model_loaded.plot_samples(6, \"Psychic\")\n",
    "model_loaded.plot_samples(6, \"Rock\")\n",
    "model_loaded.plot_samples(6, \"Steel\")\n",
    "model_loaded.plot_samples(6, \"Water\")"
   ]
  }
 ],
 "metadata": {
  "kernelspec": {
   "display_name": "Python 3 (ipykernel)",
   "language": "python",
   "name": "python3"
  },
  "language_info": {
   "codemirror_mode": {
    "name": "ipython",
    "version": 3
   },
   "file_extension": ".py",
   "mimetype": "text/x-python",
   "name": "python",
   "nbconvert_exporter": "python",
   "pygments_lexer": "ipython3",
   "version": "3.11.0rc1"
  }
 },
 "nbformat": 4,
 "nbformat_minor": 2
}
